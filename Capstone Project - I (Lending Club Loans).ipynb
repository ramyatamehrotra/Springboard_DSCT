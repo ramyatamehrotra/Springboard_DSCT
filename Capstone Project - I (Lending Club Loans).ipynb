{
 "cells": [
  {
   "cell_type": "markdown",
   "metadata": {},
   "source": [
    "# Lending Club - Capstone Project"
   ]
  },
  {
   "cell_type": "markdown",
   "metadata": {},
   "source": [
    "### Importing the necessary packages"
   ]
  },
  {
   "cell_type": "code",
   "execution_count": 107,
   "metadata": {
    "collapsed": true
   },
   "outputs": [],
   "source": [
    "import pandas as pd\n",
    "import numpy as np\n",
    "import matplotlib.pyplot as plt\n",
    "import seaborn as sns\n",
    "from scipy import stats\n",
    "from scipy.stats import spearmanr\n",
    "from scipy.stats import probplot\n",
    "from scipy.stats.mstats import zscore\n",
    "import statsmodels.stats.api as sms"
   ]
  },
  {
   "cell_type": "markdown",
   "metadata": {},
   "source": [
    "Make sure it displays all columns. None here means unlimited.So now when you do head, it shows all columns. Also, set the axes style and color pallete."
   ]
  },
  {
   "cell_type": "code",
   "execution_count": 3,
   "metadata": {
    "collapsed": true
   },
   "outputs": [],
   "source": [
    "\n",
    "pd.set_option('max_columns',None)\n",
    "\n",
    "sns.set(style='white',color_codes=True)\n",
    "\n",
    "%matplotlib inline"
   ]
  },
  {
   "cell_type": "markdown",
   "metadata": {},
   "source": [
    "### First we will read the csv file and see what's in the file"
   ]
  },
  {
   "cell_type": "code",
   "execution_count": 4,
   "metadata": {},
   "outputs": [
    {
     "data": {
      "text/html": [
       "<div>\n",
       "<style scoped>\n",
       "    .dataframe tbody tr th:only-of-type {\n",
       "        vertical-align: middle;\n",
       "    }\n",
       "\n",
       "    .dataframe tbody tr th {\n",
       "        vertical-align: top;\n",
       "    }\n",
       "\n",
       "    .dataframe thead th {\n",
       "        text-align: right;\n",
       "    }\n",
       "</style>\n",
       "<table border=\"1\" class=\"dataframe\">\n",
       "  <thead>\n",
       "    <tr style=\"text-align: right;\">\n",
       "      <th></th>\n",
       "      <th>id</th>\n",
       "      <th>member_id</th>\n",
       "      <th>loan_amnt</th>\n",
       "      <th>funded_amnt</th>\n",
       "      <th>funded_amnt_inv</th>\n",
       "      <th>term</th>\n",
       "      <th>int_rate</th>\n",
       "      <th>installment</th>\n",
       "      <th>grade</th>\n",
       "      <th>sub_grade</th>\n",
       "      <th>emp_title</th>\n",
       "      <th>emp_length</th>\n",
       "      <th>home_ownership</th>\n",
       "      <th>annual_inc</th>\n",
       "      <th>verification_status</th>\n",
       "      <th>issue_d</th>\n",
       "      <th>loan_status</th>\n",
       "      <th>pymnt_plan</th>\n",
       "      <th>url</th>\n",
       "      <th>desc</th>\n",
       "      <th>purpose</th>\n",
       "      <th>title</th>\n",
       "      <th>zip_code</th>\n",
       "      <th>addr_state</th>\n",
       "      <th>dti</th>\n",
       "      <th>delinq_2yrs</th>\n",
       "      <th>earliest_cr_line</th>\n",
       "      <th>inq_last_6mths</th>\n",
       "      <th>mths_since_last_delinq</th>\n",
       "      <th>mths_since_last_record</th>\n",
       "      <th>open_acc</th>\n",
       "      <th>pub_rec</th>\n",
       "      <th>revol_bal</th>\n",
       "      <th>revol_util</th>\n",
       "      <th>total_acc</th>\n",
       "      <th>initial_list_status</th>\n",
       "      <th>out_prncp</th>\n",
       "      <th>out_prncp_inv</th>\n",
       "      <th>total_pymnt</th>\n",
       "      <th>total_pymnt_inv</th>\n",
       "      <th>total_rec_prncp</th>\n",
       "      <th>total_rec_int</th>\n",
       "      <th>total_rec_late_fee</th>\n",
       "      <th>recoveries</th>\n",
       "      <th>collection_recovery_fee</th>\n",
       "      <th>last_pymnt_d</th>\n",
       "      <th>last_pymnt_amnt</th>\n",
       "      <th>next_pymnt_d</th>\n",
       "      <th>last_credit_pull_d</th>\n",
       "      <th>collections_12_mths_ex_med</th>\n",
       "      <th>mths_since_last_major_derog</th>\n",
       "      <th>policy_code</th>\n",
       "      <th>application_type</th>\n",
       "      <th>annual_inc_joint</th>\n",
       "      <th>dti_joint</th>\n",
       "      <th>verification_status_joint</th>\n",
       "      <th>acc_now_delinq</th>\n",
       "      <th>tot_coll_amt</th>\n",
       "      <th>tot_cur_bal</th>\n",
       "      <th>open_acc_6m</th>\n",
       "      <th>open_il_6m</th>\n",
       "      <th>open_il_12m</th>\n",
       "      <th>open_il_24m</th>\n",
       "      <th>mths_since_rcnt_il</th>\n",
       "      <th>total_bal_il</th>\n",
       "      <th>il_util</th>\n",
       "      <th>open_rv_12m</th>\n",
       "      <th>open_rv_24m</th>\n",
       "      <th>max_bal_bc</th>\n",
       "      <th>all_util</th>\n",
       "      <th>total_rev_hi_lim</th>\n",
       "      <th>inq_fi</th>\n",
       "      <th>total_cu_tl</th>\n",
       "      <th>inq_last_12m</th>\n",
       "    </tr>\n",
       "  </thead>\n",
       "  <tbody>\n",
       "    <tr>\n",
       "      <th>0</th>\n",
       "      <td>1077501</td>\n",
       "      <td>1296599</td>\n",
       "      <td>5000.0</td>\n",
       "      <td>5000.0</td>\n",
       "      <td>4975.0</td>\n",
       "      <td>36 months</td>\n",
       "      <td>10.65</td>\n",
       "      <td>162.87</td>\n",
       "      <td>B</td>\n",
       "      <td>B2</td>\n",
       "      <td>NaN</td>\n",
       "      <td>10+ years</td>\n",
       "      <td>RENT</td>\n",
       "      <td>24000.0</td>\n",
       "      <td>Verified</td>\n",
       "      <td>Dec-2011</td>\n",
       "      <td>Fully Paid</td>\n",
       "      <td>n</td>\n",
       "      <td>https://www.lendingclub.com/browse/loanDetail....</td>\n",
       "      <td>Borrower added on 12/22/11 &gt; I need to upgra...</td>\n",
       "      <td>credit_card</td>\n",
       "      <td>Computer</td>\n",
       "      <td>860xx</td>\n",
       "      <td>AZ</td>\n",
       "      <td>27.65</td>\n",
       "      <td>0.0</td>\n",
       "      <td>Jan-1985</td>\n",
       "      <td>1.0</td>\n",
       "      <td>NaN</td>\n",
       "      <td>NaN</td>\n",
       "      <td>3.0</td>\n",
       "      <td>0.0</td>\n",
       "      <td>13648.0</td>\n",
       "      <td>83.7</td>\n",
       "      <td>9.0</td>\n",
       "      <td>f</td>\n",
       "      <td>0.0</td>\n",
       "      <td>0.0</td>\n",
       "      <td>5861.071414</td>\n",
       "      <td>5831.78</td>\n",
       "      <td>5000.00</td>\n",
       "      <td>861.07</td>\n",
       "      <td>0.00</td>\n",
       "      <td>0.00</td>\n",
       "      <td>0.00</td>\n",
       "      <td>Jan-2015</td>\n",
       "      <td>171.62</td>\n",
       "      <td>NaN</td>\n",
       "      <td>Jan-2016</td>\n",
       "      <td>0.0</td>\n",
       "      <td>NaN</td>\n",
       "      <td>1.0</td>\n",
       "      <td>INDIVIDUAL</td>\n",
       "      <td>NaN</td>\n",
       "      <td>NaN</td>\n",
       "      <td>NaN</td>\n",
       "      <td>0.0</td>\n",
       "      <td>NaN</td>\n",
       "      <td>NaN</td>\n",
       "      <td>NaN</td>\n",
       "      <td>NaN</td>\n",
       "      <td>NaN</td>\n",
       "      <td>NaN</td>\n",
       "      <td>NaN</td>\n",
       "      <td>NaN</td>\n",
       "      <td>NaN</td>\n",
       "      <td>NaN</td>\n",
       "      <td>NaN</td>\n",
       "      <td>NaN</td>\n",
       "      <td>NaN</td>\n",
       "      <td>NaN</td>\n",
       "      <td>NaN</td>\n",
       "      <td>NaN</td>\n",
       "      <td>NaN</td>\n",
       "    </tr>\n",
       "    <tr>\n",
       "      <th>1</th>\n",
       "      <td>1077430</td>\n",
       "      <td>1314167</td>\n",
       "      <td>2500.0</td>\n",
       "      <td>2500.0</td>\n",
       "      <td>2500.0</td>\n",
       "      <td>60 months</td>\n",
       "      <td>15.27</td>\n",
       "      <td>59.83</td>\n",
       "      <td>C</td>\n",
       "      <td>C4</td>\n",
       "      <td>Ryder</td>\n",
       "      <td>&lt; 1 year</td>\n",
       "      <td>RENT</td>\n",
       "      <td>30000.0</td>\n",
       "      <td>Source Verified</td>\n",
       "      <td>Dec-2011</td>\n",
       "      <td>Charged Off</td>\n",
       "      <td>n</td>\n",
       "      <td>https://www.lendingclub.com/browse/loanDetail....</td>\n",
       "      <td>Borrower added on 12/22/11 &gt; I plan to use t...</td>\n",
       "      <td>car</td>\n",
       "      <td>bike</td>\n",
       "      <td>309xx</td>\n",
       "      <td>GA</td>\n",
       "      <td>1.00</td>\n",
       "      <td>0.0</td>\n",
       "      <td>Apr-1999</td>\n",
       "      <td>5.0</td>\n",
       "      <td>NaN</td>\n",
       "      <td>NaN</td>\n",
       "      <td>3.0</td>\n",
       "      <td>0.0</td>\n",
       "      <td>1687.0</td>\n",
       "      <td>9.4</td>\n",
       "      <td>4.0</td>\n",
       "      <td>f</td>\n",
       "      <td>0.0</td>\n",
       "      <td>0.0</td>\n",
       "      <td>1008.710000</td>\n",
       "      <td>1008.71</td>\n",
       "      <td>456.46</td>\n",
       "      <td>435.17</td>\n",
       "      <td>0.00</td>\n",
       "      <td>117.08</td>\n",
       "      <td>1.11</td>\n",
       "      <td>Apr-2013</td>\n",
       "      <td>119.66</td>\n",
       "      <td>NaN</td>\n",
       "      <td>Sep-2013</td>\n",
       "      <td>0.0</td>\n",
       "      <td>NaN</td>\n",
       "      <td>1.0</td>\n",
       "      <td>INDIVIDUAL</td>\n",
       "      <td>NaN</td>\n",
       "      <td>NaN</td>\n",
       "      <td>NaN</td>\n",
       "      <td>0.0</td>\n",
       "      <td>NaN</td>\n",
       "      <td>NaN</td>\n",
       "      <td>NaN</td>\n",
       "      <td>NaN</td>\n",
       "      <td>NaN</td>\n",
       "      <td>NaN</td>\n",
       "      <td>NaN</td>\n",
       "      <td>NaN</td>\n",
       "      <td>NaN</td>\n",
       "      <td>NaN</td>\n",
       "      <td>NaN</td>\n",
       "      <td>NaN</td>\n",
       "      <td>NaN</td>\n",
       "      <td>NaN</td>\n",
       "      <td>NaN</td>\n",
       "      <td>NaN</td>\n",
       "      <td>NaN</td>\n",
       "    </tr>\n",
       "    <tr>\n",
       "      <th>2</th>\n",
       "      <td>1077175</td>\n",
       "      <td>1313524</td>\n",
       "      <td>2400.0</td>\n",
       "      <td>2400.0</td>\n",
       "      <td>2400.0</td>\n",
       "      <td>36 months</td>\n",
       "      <td>15.96</td>\n",
       "      <td>84.33</td>\n",
       "      <td>C</td>\n",
       "      <td>C5</td>\n",
       "      <td>NaN</td>\n",
       "      <td>10+ years</td>\n",
       "      <td>RENT</td>\n",
       "      <td>12252.0</td>\n",
       "      <td>Not Verified</td>\n",
       "      <td>Dec-2011</td>\n",
       "      <td>Fully Paid</td>\n",
       "      <td>n</td>\n",
       "      <td>https://www.lendingclub.com/browse/loanDetail....</td>\n",
       "      <td>NaN</td>\n",
       "      <td>small_business</td>\n",
       "      <td>real estate business</td>\n",
       "      <td>606xx</td>\n",
       "      <td>IL</td>\n",
       "      <td>8.72</td>\n",
       "      <td>0.0</td>\n",
       "      <td>Nov-2001</td>\n",
       "      <td>2.0</td>\n",
       "      <td>NaN</td>\n",
       "      <td>NaN</td>\n",
       "      <td>2.0</td>\n",
       "      <td>0.0</td>\n",
       "      <td>2956.0</td>\n",
       "      <td>98.5</td>\n",
       "      <td>10.0</td>\n",
       "      <td>f</td>\n",
       "      <td>0.0</td>\n",
       "      <td>0.0</td>\n",
       "      <td>3003.653644</td>\n",
       "      <td>3003.65</td>\n",
       "      <td>2400.00</td>\n",
       "      <td>603.65</td>\n",
       "      <td>0.00</td>\n",
       "      <td>0.00</td>\n",
       "      <td>0.00</td>\n",
       "      <td>Jun-2014</td>\n",
       "      <td>649.91</td>\n",
       "      <td>NaN</td>\n",
       "      <td>Jan-2016</td>\n",
       "      <td>0.0</td>\n",
       "      <td>NaN</td>\n",
       "      <td>1.0</td>\n",
       "      <td>INDIVIDUAL</td>\n",
       "      <td>NaN</td>\n",
       "      <td>NaN</td>\n",
       "      <td>NaN</td>\n",
       "      <td>0.0</td>\n",
       "      <td>NaN</td>\n",
       "      <td>NaN</td>\n",
       "      <td>NaN</td>\n",
       "      <td>NaN</td>\n",
       "      <td>NaN</td>\n",
       "      <td>NaN</td>\n",
       "      <td>NaN</td>\n",
       "      <td>NaN</td>\n",
       "      <td>NaN</td>\n",
       "      <td>NaN</td>\n",
       "      <td>NaN</td>\n",
       "      <td>NaN</td>\n",
       "      <td>NaN</td>\n",
       "      <td>NaN</td>\n",
       "      <td>NaN</td>\n",
       "      <td>NaN</td>\n",
       "      <td>NaN</td>\n",
       "    </tr>\n",
       "    <tr>\n",
       "      <th>3</th>\n",
       "      <td>1076863</td>\n",
       "      <td>1277178</td>\n",
       "      <td>10000.0</td>\n",
       "      <td>10000.0</td>\n",
       "      <td>10000.0</td>\n",
       "      <td>36 months</td>\n",
       "      <td>13.49</td>\n",
       "      <td>339.31</td>\n",
       "      <td>C</td>\n",
       "      <td>C1</td>\n",
       "      <td>AIR RESOURCES BOARD</td>\n",
       "      <td>10+ years</td>\n",
       "      <td>RENT</td>\n",
       "      <td>49200.0</td>\n",
       "      <td>Source Verified</td>\n",
       "      <td>Dec-2011</td>\n",
       "      <td>Fully Paid</td>\n",
       "      <td>n</td>\n",
       "      <td>https://www.lendingclub.com/browse/loanDetail....</td>\n",
       "      <td>Borrower added on 12/21/11 &gt; to pay for prop...</td>\n",
       "      <td>other</td>\n",
       "      <td>personel</td>\n",
       "      <td>917xx</td>\n",
       "      <td>CA</td>\n",
       "      <td>20.00</td>\n",
       "      <td>0.0</td>\n",
       "      <td>Feb-1996</td>\n",
       "      <td>1.0</td>\n",
       "      <td>35.0</td>\n",
       "      <td>NaN</td>\n",
       "      <td>10.0</td>\n",
       "      <td>0.0</td>\n",
       "      <td>5598.0</td>\n",
       "      <td>21.0</td>\n",
       "      <td>37.0</td>\n",
       "      <td>f</td>\n",
       "      <td>0.0</td>\n",
       "      <td>0.0</td>\n",
       "      <td>12226.302212</td>\n",
       "      <td>12226.30</td>\n",
       "      <td>10000.00</td>\n",
       "      <td>2209.33</td>\n",
       "      <td>16.97</td>\n",
       "      <td>0.00</td>\n",
       "      <td>0.00</td>\n",
       "      <td>Jan-2015</td>\n",
       "      <td>357.48</td>\n",
       "      <td>NaN</td>\n",
       "      <td>Jan-2015</td>\n",
       "      <td>0.0</td>\n",
       "      <td>NaN</td>\n",
       "      <td>1.0</td>\n",
       "      <td>INDIVIDUAL</td>\n",
       "      <td>NaN</td>\n",
       "      <td>NaN</td>\n",
       "      <td>NaN</td>\n",
       "      <td>0.0</td>\n",
       "      <td>NaN</td>\n",
       "      <td>NaN</td>\n",
       "      <td>NaN</td>\n",
       "      <td>NaN</td>\n",
       "      <td>NaN</td>\n",
       "      <td>NaN</td>\n",
       "      <td>NaN</td>\n",
       "      <td>NaN</td>\n",
       "      <td>NaN</td>\n",
       "      <td>NaN</td>\n",
       "      <td>NaN</td>\n",
       "      <td>NaN</td>\n",
       "      <td>NaN</td>\n",
       "      <td>NaN</td>\n",
       "      <td>NaN</td>\n",
       "      <td>NaN</td>\n",
       "      <td>NaN</td>\n",
       "    </tr>\n",
       "    <tr>\n",
       "      <th>4</th>\n",
       "      <td>1075358</td>\n",
       "      <td>1311748</td>\n",
       "      <td>3000.0</td>\n",
       "      <td>3000.0</td>\n",
       "      <td>3000.0</td>\n",
       "      <td>60 months</td>\n",
       "      <td>12.69</td>\n",
       "      <td>67.79</td>\n",
       "      <td>B</td>\n",
       "      <td>B5</td>\n",
       "      <td>University Medical Group</td>\n",
       "      <td>1 year</td>\n",
       "      <td>RENT</td>\n",
       "      <td>80000.0</td>\n",
       "      <td>Source Verified</td>\n",
       "      <td>Dec-2011</td>\n",
       "      <td>Current</td>\n",
       "      <td>n</td>\n",
       "      <td>https://www.lendingclub.com/browse/loanDetail....</td>\n",
       "      <td>Borrower added on 12/21/11 &gt; I plan on combi...</td>\n",
       "      <td>other</td>\n",
       "      <td>Personal</td>\n",
       "      <td>972xx</td>\n",
       "      <td>OR</td>\n",
       "      <td>17.94</td>\n",
       "      <td>0.0</td>\n",
       "      <td>Jan-1996</td>\n",
       "      <td>0.0</td>\n",
       "      <td>38.0</td>\n",
       "      <td>NaN</td>\n",
       "      <td>15.0</td>\n",
       "      <td>0.0</td>\n",
       "      <td>27783.0</td>\n",
       "      <td>53.9</td>\n",
       "      <td>38.0</td>\n",
       "      <td>f</td>\n",
       "      <td>766.9</td>\n",
       "      <td>766.9</td>\n",
       "      <td>3242.170000</td>\n",
       "      <td>3242.17</td>\n",
       "      <td>2233.10</td>\n",
       "      <td>1009.07</td>\n",
       "      <td>0.00</td>\n",
       "      <td>0.00</td>\n",
       "      <td>0.00</td>\n",
       "      <td>Jan-2016</td>\n",
       "      <td>67.79</td>\n",
       "      <td>Feb-2016</td>\n",
       "      <td>Jan-2016</td>\n",
       "      <td>0.0</td>\n",
       "      <td>NaN</td>\n",
       "      <td>1.0</td>\n",
       "      <td>INDIVIDUAL</td>\n",
       "      <td>NaN</td>\n",
       "      <td>NaN</td>\n",
       "      <td>NaN</td>\n",
       "      <td>0.0</td>\n",
       "      <td>NaN</td>\n",
       "      <td>NaN</td>\n",
       "      <td>NaN</td>\n",
       "      <td>NaN</td>\n",
       "      <td>NaN</td>\n",
       "      <td>NaN</td>\n",
       "      <td>NaN</td>\n",
       "      <td>NaN</td>\n",
       "      <td>NaN</td>\n",
       "      <td>NaN</td>\n",
       "      <td>NaN</td>\n",
       "      <td>NaN</td>\n",
       "      <td>NaN</td>\n",
       "      <td>NaN</td>\n",
       "      <td>NaN</td>\n",
       "      <td>NaN</td>\n",
       "      <td>NaN</td>\n",
       "    </tr>\n",
       "  </tbody>\n",
       "</table>\n",
       "</div>"
      ],
      "text/plain": [
       "        id  member_id  loan_amnt  funded_amnt  funded_amnt_inv        term  \\\n",
       "0  1077501    1296599     5000.0       5000.0           4975.0   36 months   \n",
       "1  1077430    1314167     2500.0       2500.0           2500.0   60 months   \n",
       "2  1077175    1313524     2400.0       2400.0           2400.0   36 months   \n",
       "3  1076863    1277178    10000.0      10000.0          10000.0   36 months   \n",
       "4  1075358    1311748     3000.0       3000.0           3000.0   60 months   \n",
       "\n",
       "   int_rate  installment grade sub_grade                 emp_title emp_length  \\\n",
       "0     10.65       162.87     B        B2                       NaN  10+ years   \n",
       "1     15.27        59.83     C        C4                     Ryder   < 1 year   \n",
       "2     15.96        84.33     C        C5                       NaN  10+ years   \n",
       "3     13.49       339.31     C        C1       AIR RESOURCES BOARD  10+ years   \n",
       "4     12.69        67.79     B        B5  University Medical Group     1 year   \n",
       "\n",
       "  home_ownership  annual_inc verification_status   issue_d  loan_status  \\\n",
       "0           RENT     24000.0            Verified  Dec-2011   Fully Paid   \n",
       "1           RENT     30000.0     Source Verified  Dec-2011  Charged Off   \n",
       "2           RENT     12252.0        Not Verified  Dec-2011   Fully Paid   \n",
       "3           RENT     49200.0     Source Verified  Dec-2011   Fully Paid   \n",
       "4           RENT     80000.0     Source Verified  Dec-2011      Current   \n",
       "\n",
       "  pymnt_plan                                                url  \\\n",
       "0          n  https://www.lendingclub.com/browse/loanDetail....   \n",
       "1          n  https://www.lendingclub.com/browse/loanDetail....   \n",
       "2          n  https://www.lendingclub.com/browse/loanDetail....   \n",
       "3          n  https://www.lendingclub.com/browse/loanDetail....   \n",
       "4          n  https://www.lendingclub.com/browse/loanDetail....   \n",
       "\n",
       "                                                desc         purpose  \\\n",
       "0    Borrower added on 12/22/11 > I need to upgra...     credit_card   \n",
       "1    Borrower added on 12/22/11 > I plan to use t...             car   \n",
       "2                                                NaN  small_business   \n",
       "3    Borrower added on 12/21/11 > to pay for prop...           other   \n",
       "4    Borrower added on 12/21/11 > I plan on combi...           other   \n",
       "\n",
       "                  title zip_code addr_state    dti  delinq_2yrs  \\\n",
       "0              Computer    860xx         AZ  27.65          0.0   \n",
       "1                  bike    309xx         GA   1.00          0.0   \n",
       "2  real estate business    606xx         IL   8.72          0.0   \n",
       "3              personel    917xx         CA  20.00          0.0   \n",
       "4              Personal    972xx         OR  17.94          0.0   \n",
       "\n",
       "  earliest_cr_line  inq_last_6mths  mths_since_last_delinq  \\\n",
       "0         Jan-1985             1.0                     NaN   \n",
       "1         Apr-1999             5.0                     NaN   \n",
       "2         Nov-2001             2.0                     NaN   \n",
       "3         Feb-1996             1.0                    35.0   \n",
       "4         Jan-1996             0.0                    38.0   \n",
       "\n",
       "   mths_since_last_record  open_acc  pub_rec  revol_bal  revol_util  \\\n",
       "0                     NaN       3.0      0.0    13648.0        83.7   \n",
       "1                     NaN       3.0      0.0     1687.0         9.4   \n",
       "2                     NaN       2.0      0.0     2956.0        98.5   \n",
       "3                     NaN      10.0      0.0     5598.0        21.0   \n",
       "4                     NaN      15.0      0.0    27783.0        53.9   \n",
       "\n",
       "   total_acc initial_list_status  out_prncp  out_prncp_inv   total_pymnt  \\\n",
       "0        9.0                   f        0.0            0.0   5861.071414   \n",
       "1        4.0                   f        0.0            0.0   1008.710000   \n",
       "2       10.0                   f        0.0            0.0   3003.653644   \n",
       "3       37.0                   f        0.0            0.0  12226.302212   \n",
       "4       38.0                   f      766.9          766.9   3242.170000   \n",
       "\n",
       "   total_pymnt_inv  total_rec_prncp  total_rec_int  total_rec_late_fee  \\\n",
       "0          5831.78          5000.00         861.07                0.00   \n",
       "1          1008.71           456.46         435.17                0.00   \n",
       "2          3003.65          2400.00         603.65                0.00   \n",
       "3         12226.30         10000.00        2209.33               16.97   \n",
       "4          3242.17          2233.10        1009.07                0.00   \n",
       "\n",
       "   recoveries  collection_recovery_fee last_pymnt_d  last_pymnt_amnt  \\\n",
       "0        0.00                     0.00     Jan-2015           171.62   \n",
       "1      117.08                     1.11     Apr-2013           119.66   \n",
       "2        0.00                     0.00     Jun-2014           649.91   \n",
       "3        0.00                     0.00     Jan-2015           357.48   \n",
       "4        0.00                     0.00     Jan-2016            67.79   \n",
       "\n",
       "  next_pymnt_d last_credit_pull_d  collections_12_mths_ex_med  \\\n",
       "0          NaN           Jan-2016                         0.0   \n",
       "1          NaN           Sep-2013                         0.0   \n",
       "2          NaN           Jan-2016                         0.0   \n",
       "3          NaN           Jan-2015                         0.0   \n",
       "4     Feb-2016           Jan-2016                         0.0   \n",
       "\n",
       "   mths_since_last_major_derog  policy_code application_type  \\\n",
       "0                          NaN          1.0       INDIVIDUAL   \n",
       "1                          NaN          1.0       INDIVIDUAL   \n",
       "2                          NaN          1.0       INDIVIDUAL   \n",
       "3                          NaN          1.0       INDIVIDUAL   \n",
       "4                          NaN          1.0       INDIVIDUAL   \n",
       "\n",
       "   annual_inc_joint  dti_joint verification_status_joint  acc_now_delinq  \\\n",
       "0               NaN        NaN                       NaN             0.0   \n",
       "1               NaN        NaN                       NaN             0.0   \n",
       "2               NaN        NaN                       NaN             0.0   \n",
       "3               NaN        NaN                       NaN             0.0   \n",
       "4               NaN        NaN                       NaN             0.0   \n",
       "\n",
       "   tot_coll_amt  tot_cur_bal  open_acc_6m  open_il_6m  open_il_12m  \\\n",
       "0           NaN          NaN          NaN         NaN          NaN   \n",
       "1           NaN          NaN          NaN         NaN          NaN   \n",
       "2           NaN          NaN          NaN         NaN          NaN   \n",
       "3           NaN          NaN          NaN         NaN          NaN   \n",
       "4           NaN          NaN          NaN         NaN          NaN   \n",
       "\n",
       "   open_il_24m  mths_since_rcnt_il  total_bal_il  il_util  open_rv_12m  \\\n",
       "0          NaN                 NaN           NaN      NaN          NaN   \n",
       "1          NaN                 NaN           NaN      NaN          NaN   \n",
       "2          NaN                 NaN           NaN      NaN          NaN   \n",
       "3          NaN                 NaN           NaN      NaN          NaN   \n",
       "4          NaN                 NaN           NaN      NaN          NaN   \n",
       "\n",
       "   open_rv_24m  max_bal_bc  all_util  total_rev_hi_lim  inq_fi  total_cu_tl  \\\n",
       "0          NaN         NaN       NaN               NaN     NaN          NaN   \n",
       "1          NaN         NaN       NaN               NaN     NaN          NaN   \n",
       "2          NaN         NaN       NaN               NaN     NaN          NaN   \n",
       "3          NaN         NaN       NaN               NaN     NaN          NaN   \n",
       "4          NaN         NaN       NaN               NaN     NaN          NaN   \n",
       "\n",
       "   inq_last_12m  \n",
       "0           NaN  \n",
       "1           NaN  \n",
       "2           NaN  \n",
       "3           NaN  \n",
       "4           NaN  "
      ]
     },
     "execution_count": 4,
     "metadata": {},
     "output_type": "execute_result"
    }
   ],
   "source": [
    "loans_data = pd.read_csv('loan.csv', low_memory=False)\n",
    "loans_data.head()"
   ]
  },
  {
   "cell_type": "markdown",
   "metadata": {},
   "source": [
    "### Understanding the data that is in our file"
   ]
  },
  {
   "cell_type": "code",
   "execution_count": 5,
   "metadata": {},
   "outputs": [
    {
     "name": "stdout",
     "output_type": "stream",
     "text": [
      "<class 'pandas.core.frame.DataFrame'>\n",
      "RangeIndex: 887379 entries, 0 to 887378\n",
      "Data columns (total 74 columns):\n",
      "id                             887379 non-null int64\n",
      "member_id                      887379 non-null int64\n",
      "loan_amnt                      887379 non-null float64\n",
      "funded_amnt                    887379 non-null float64\n",
      "funded_amnt_inv                887379 non-null float64\n",
      "term                           887379 non-null object\n",
      "int_rate                       887379 non-null float64\n",
      "installment                    887379 non-null float64\n",
      "grade                          887379 non-null object\n",
      "sub_grade                      887379 non-null object\n",
      "emp_title                      835917 non-null object\n",
      "emp_length                     842554 non-null object\n",
      "home_ownership                 887379 non-null object\n",
      "annual_inc                     887375 non-null float64\n",
      "verification_status            887379 non-null object\n",
      "issue_d                        887379 non-null object\n",
      "loan_status                    887379 non-null object\n",
      "pymnt_plan                     887379 non-null object\n",
      "url                            887379 non-null object\n",
      "desc                           126028 non-null object\n",
      "purpose                        887379 non-null object\n",
      "title                          887227 non-null object\n",
      "zip_code                       887379 non-null object\n",
      "addr_state                     887379 non-null object\n",
      "dti                            887379 non-null float64\n",
      "delinq_2yrs                    887350 non-null float64\n",
      "earliest_cr_line               887350 non-null object\n",
      "inq_last_6mths                 887350 non-null float64\n",
      "mths_since_last_delinq         433067 non-null float64\n",
      "mths_since_last_record         137053 non-null float64\n",
      "open_acc                       887350 non-null float64\n",
      "pub_rec                        887350 non-null float64\n",
      "revol_bal                      887379 non-null float64\n",
      "revol_util                     886877 non-null float64\n",
      "total_acc                      887350 non-null float64\n",
      "initial_list_status            887379 non-null object\n",
      "out_prncp                      887379 non-null float64\n",
      "out_prncp_inv                  887379 non-null float64\n",
      "total_pymnt                    887379 non-null float64\n",
      "total_pymnt_inv                887379 non-null float64\n",
      "total_rec_prncp                887379 non-null float64\n",
      "total_rec_int                  887379 non-null float64\n",
      "total_rec_late_fee             887379 non-null float64\n",
      "recoveries                     887379 non-null float64\n",
      "collection_recovery_fee        887379 non-null float64\n",
      "last_pymnt_d                   869720 non-null object\n",
      "last_pymnt_amnt                887379 non-null float64\n",
      "next_pymnt_d                   634408 non-null object\n",
      "last_credit_pull_d             887326 non-null object\n",
      "collections_12_mths_ex_med     887234 non-null float64\n",
      "mths_since_last_major_derog    221703 non-null float64\n",
      "policy_code                    887379 non-null float64\n",
      "application_type               887379 non-null object\n",
      "annual_inc_joint               511 non-null float64\n",
      "dti_joint                      509 non-null float64\n",
      "verification_status_joint      511 non-null object\n",
      "acc_now_delinq                 887350 non-null float64\n",
      "tot_coll_amt                   817103 non-null float64\n",
      "tot_cur_bal                    817103 non-null float64\n",
      "open_acc_6m                    21372 non-null float64\n",
      "open_il_6m                     21372 non-null float64\n",
      "open_il_12m                    21372 non-null float64\n",
      "open_il_24m                    21372 non-null float64\n",
      "mths_since_rcnt_il             20810 non-null float64\n",
      "total_bal_il                   21372 non-null float64\n",
      "il_util                        18617 non-null float64\n",
      "open_rv_12m                    21372 non-null float64\n",
      "open_rv_24m                    21372 non-null float64\n",
      "max_bal_bc                     21372 non-null float64\n",
      "all_util                       21372 non-null float64\n",
      "total_rev_hi_lim               817103 non-null float64\n",
      "inq_fi                         21372 non-null float64\n",
      "total_cu_tl                    21372 non-null float64\n",
      "inq_last_12m                   21372 non-null float64\n",
      "dtypes: float64(49), int64(2), object(23)\n",
      "memory usage: 501.0+ MB\n"
     ]
    }
   ],
   "source": [
    "loans_data.info()"
   ]
  },
  {
   "cell_type": "markdown",
   "metadata": {},
   "source": [
    "Describe when used with the 'all' option helps us understand the non-numerical columns too. The describe( ) command just\n",
    "provides numerical columns data."
   ]
  },
  {
   "cell_type": "code",
   "execution_count": 6,
   "metadata": {},
   "outputs": [
    {
     "data": {
      "text/html": [
       "<div>\n",
       "<style scoped>\n",
       "    .dataframe tbody tr th:only-of-type {\n",
       "        vertical-align: middle;\n",
       "    }\n",
       "\n",
       "    .dataframe tbody tr th {\n",
       "        vertical-align: top;\n",
       "    }\n",
       "\n",
       "    .dataframe thead th {\n",
       "        text-align: right;\n",
       "    }\n",
       "</style>\n",
       "<table border=\"1\" class=\"dataframe\">\n",
       "  <thead>\n",
       "    <tr style=\"text-align: right;\">\n",
       "      <th></th>\n",
       "      <th>id</th>\n",
       "      <th>member_id</th>\n",
       "      <th>loan_amnt</th>\n",
       "      <th>funded_amnt</th>\n",
       "      <th>funded_amnt_inv</th>\n",
       "      <th>int_rate</th>\n",
       "      <th>installment</th>\n",
       "      <th>annual_inc</th>\n",
       "      <th>dti</th>\n",
       "      <th>delinq_2yrs</th>\n",
       "      <th>inq_last_6mths</th>\n",
       "      <th>mths_since_last_delinq</th>\n",
       "      <th>mths_since_last_record</th>\n",
       "      <th>open_acc</th>\n",
       "      <th>pub_rec</th>\n",
       "      <th>revol_bal</th>\n",
       "      <th>revol_util</th>\n",
       "      <th>total_acc</th>\n",
       "      <th>out_prncp</th>\n",
       "      <th>out_prncp_inv</th>\n",
       "      <th>total_pymnt</th>\n",
       "      <th>total_pymnt_inv</th>\n",
       "      <th>total_rec_prncp</th>\n",
       "      <th>total_rec_int</th>\n",
       "      <th>total_rec_late_fee</th>\n",
       "      <th>recoveries</th>\n",
       "      <th>collection_recovery_fee</th>\n",
       "      <th>last_pymnt_amnt</th>\n",
       "      <th>collections_12_mths_ex_med</th>\n",
       "      <th>mths_since_last_major_derog</th>\n",
       "      <th>policy_code</th>\n",
       "      <th>annual_inc_joint</th>\n",
       "      <th>dti_joint</th>\n",
       "      <th>acc_now_delinq</th>\n",
       "      <th>tot_coll_amt</th>\n",
       "      <th>tot_cur_bal</th>\n",
       "      <th>open_acc_6m</th>\n",
       "      <th>open_il_6m</th>\n",
       "      <th>open_il_12m</th>\n",
       "      <th>open_il_24m</th>\n",
       "      <th>mths_since_rcnt_il</th>\n",
       "      <th>total_bal_il</th>\n",
       "      <th>il_util</th>\n",
       "      <th>open_rv_12m</th>\n",
       "      <th>open_rv_24m</th>\n",
       "      <th>max_bal_bc</th>\n",
       "      <th>all_util</th>\n",
       "      <th>total_rev_hi_lim</th>\n",
       "      <th>inq_fi</th>\n",
       "      <th>total_cu_tl</th>\n",
       "      <th>inq_last_12m</th>\n",
       "    </tr>\n",
       "  </thead>\n",
       "  <tbody>\n",
       "    <tr>\n",
       "      <th>count</th>\n",
       "      <td>8.873790e+05</td>\n",
       "      <td>8.873790e+05</td>\n",
       "      <td>887379.000000</td>\n",
       "      <td>887379.000000</td>\n",
       "      <td>887379.000000</td>\n",
       "      <td>887379.000000</td>\n",
       "      <td>887379.000000</td>\n",
       "      <td>8.873750e+05</td>\n",
       "      <td>887379.000000</td>\n",
       "      <td>887350.000000</td>\n",
       "      <td>887350.000000</td>\n",
       "      <td>433067.000000</td>\n",
       "      <td>137053.000000</td>\n",
       "      <td>887350.000000</td>\n",
       "      <td>887350.000000</td>\n",
       "      <td>8.873790e+05</td>\n",
       "      <td>886877.000000</td>\n",
       "      <td>887350.000000</td>\n",
       "      <td>887379.000000</td>\n",
       "      <td>887379.000000</td>\n",
       "      <td>887379.000000</td>\n",
       "      <td>887379.000000</td>\n",
       "      <td>887379.000000</td>\n",
       "      <td>887379.000000</td>\n",
       "      <td>887379.000000</td>\n",
       "      <td>887379.000000</td>\n",
       "      <td>887379.000000</td>\n",
       "      <td>887379.000000</td>\n",
       "      <td>887234.000000</td>\n",
       "      <td>221703.000000</td>\n",
       "      <td>887379.0</td>\n",
       "      <td>511.000000</td>\n",
       "      <td>509.000000</td>\n",
       "      <td>887350.000000</td>\n",
       "      <td>8.171030e+05</td>\n",
       "      <td>8.171030e+05</td>\n",
       "      <td>21372.000000</td>\n",
       "      <td>21372.000000</td>\n",
       "      <td>21372.000000</td>\n",
       "      <td>21372.000000</td>\n",
       "      <td>20810.000000</td>\n",
       "      <td>21372.000000</td>\n",
       "      <td>18617.000000</td>\n",
       "      <td>21372.000000</td>\n",
       "      <td>21372.000000</td>\n",
       "      <td>21372.000000</td>\n",
       "      <td>21372.000000</td>\n",
       "      <td>8.171030e+05</td>\n",
       "      <td>21372.000000</td>\n",
       "      <td>21372.000000</td>\n",
       "      <td>21372.000000</td>\n",
       "    </tr>\n",
       "    <tr>\n",
       "      <th>mean</th>\n",
       "      <td>3.246513e+07</td>\n",
       "      <td>3.500182e+07</td>\n",
       "      <td>14755.264605</td>\n",
       "      <td>14741.877625</td>\n",
       "      <td>14702.464383</td>\n",
       "      <td>13.246740</td>\n",
       "      <td>436.717127</td>\n",
       "      <td>7.502759e+04</td>\n",
       "      <td>18.157039</td>\n",
       "      <td>0.314442</td>\n",
       "      <td>0.694623</td>\n",
       "      <td>34.063798</td>\n",
       "      <td>70.117903</td>\n",
       "      <td>11.548469</td>\n",
       "      <td>0.195307</td>\n",
       "      <td>1.692079e+04</td>\n",
       "      <td>55.067693</td>\n",
       "      <td>25.268026</td>\n",
       "      <td>8403.124852</td>\n",
       "      <td>8399.713242</td>\n",
       "      <td>7558.826684</td>\n",
       "      <td>7521.160306</td>\n",
       "      <td>5757.706424</td>\n",
       "      <td>1754.804327</td>\n",
       "      <td>0.396692</td>\n",
       "      <td>45.919243</td>\n",
       "      <td>4.880757</td>\n",
       "      <td>2164.145585</td>\n",
       "      <td>0.014380</td>\n",
       "      <td>44.104838</td>\n",
       "      <td>1.0</td>\n",
       "      <td>109981.011585</td>\n",
       "      <td>18.310118</td>\n",
       "      <td>0.004991</td>\n",
       "      <td>2.257026e+02</td>\n",
       "      <td>1.394582e+05</td>\n",
       "      <td>1.109021</td>\n",
       "      <td>2.928832</td>\n",
       "      <td>0.761651</td>\n",
       "      <td>1.674574</td>\n",
       "      <td>20.912686</td>\n",
       "      <td>36552.811389</td>\n",
       "      <td>71.535317</td>\n",
       "      <td>1.389060</td>\n",
       "      <td>2.975482</td>\n",
       "      <td>5887.979740</td>\n",
       "      <td>60.831939</td>\n",
       "      <td>3.206862e+04</td>\n",
       "      <td>0.943945</td>\n",
       "      <td>1.537058</td>\n",
       "      <td>1.977307</td>\n",
       "    </tr>\n",
       "    <tr>\n",
       "      <th>std</th>\n",
       "      <td>2.282734e+07</td>\n",
       "      <td>2.411335e+07</td>\n",
       "      <td>8435.455601</td>\n",
       "      <td>8429.897657</td>\n",
       "      <td>8442.106732</td>\n",
       "      <td>4.381867</td>\n",
       "      <td>244.186593</td>\n",
       "      <td>6.469830e+04</td>\n",
       "      <td>17.190626</td>\n",
       "      <td>0.862244</td>\n",
       "      <td>0.998448</td>\n",
       "      <td>21.884940</td>\n",
       "      <td>28.127914</td>\n",
       "      <td>5.317313</td>\n",
       "      <td>0.582091</td>\n",
       "      <td>2.242679e+04</td>\n",
       "      <td>23.834344</td>\n",
       "      <td>11.840561</td>\n",
       "      <td>8493.450269</td>\n",
       "      <td>8489.997617</td>\n",
       "      <td>7871.243336</td>\n",
       "      <td>7846.108604</td>\n",
       "      <td>6625.441046</td>\n",
       "      <td>2095.356099</td>\n",
       "      <td>4.087825</td>\n",
       "      <td>409.693874</td>\n",
       "      <td>63.125281</td>\n",
       "      <td>4794.783233</td>\n",
       "      <td>0.134191</td>\n",
       "      <td>22.179841</td>\n",
       "      <td>0.0</td>\n",
       "      <td>52730.379847</td>\n",
       "      <td>7.169233</td>\n",
       "      <td>0.077625</td>\n",
       "      <td>1.031137e+04</td>\n",
       "      <td>1.537500e+05</td>\n",
       "      <td>1.242675</td>\n",
       "      <td>3.089987</td>\n",
       "      <td>0.996035</td>\n",
       "      <td>1.688725</td>\n",
       "      <td>27.209081</td>\n",
       "      <td>43103.833619</td>\n",
       "      <td>23.022862</td>\n",
       "      <td>1.520129</td>\n",
       "      <td>2.631886</td>\n",
       "      <td>5284.701239</td>\n",
       "      <td>20.013254</td>\n",
       "      <td>3.749826e+04</td>\n",
       "      <td>1.446872</td>\n",
       "      <td>2.723339</td>\n",
       "      <td>2.874067</td>\n",
       "    </tr>\n",
       "    <tr>\n",
       "      <th>min</th>\n",
       "      <td>5.473400e+04</td>\n",
       "      <td>7.047300e+04</td>\n",
       "      <td>500.000000</td>\n",
       "      <td>500.000000</td>\n",
       "      <td>0.000000</td>\n",
       "      <td>5.320000</td>\n",
       "      <td>15.670000</td>\n",
       "      <td>0.000000e+00</td>\n",
       "      <td>0.000000</td>\n",
       "      <td>0.000000</td>\n",
       "      <td>0.000000</td>\n",
       "      <td>0.000000</td>\n",
       "      <td>0.000000</td>\n",
       "      <td>0.000000</td>\n",
       "      <td>0.000000</td>\n",
       "      <td>0.000000e+00</td>\n",
       "      <td>0.000000</td>\n",
       "      <td>1.000000</td>\n",
       "      <td>0.000000</td>\n",
       "      <td>0.000000</td>\n",
       "      <td>0.000000</td>\n",
       "      <td>0.000000</td>\n",
       "      <td>0.000000</td>\n",
       "      <td>0.000000</td>\n",
       "      <td>0.000000</td>\n",
       "      <td>0.000000</td>\n",
       "      <td>0.000000</td>\n",
       "      <td>0.000000</td>\n",
       "      <td>0.000000</td>\n",
       "      <td>0.000000</td>\n",
       "      <td>1.0</td>\n",
       "      <td>17950.000000</td>\n",
       "      <td>3.000000</td>\n",
       "      <td>0.000000</td>\n",
       "      <td>0.000000e+00</td>\n",
       "      <td>0.000000e+00</td>\n",
       "      <td>0.000000</td>\n",
       "      <td>0.000000</td>\n",
       "      <td>0.000000</td>\n",
       "      <td>0.000000</td>\n",
       "      <td>0.000000</td>\n",
       "      <td>0.000000</td>\n",
       "      <td>0.000000</td>\n",
       "      <td>0.000000</td>\n",
       "      <td>0.000000</td>\n",
       "      <td>0.000000</td>\n",
       "      <td>0.000000</td>\n",
       "      <td>0.000000e+00</td>\n",
       "      <td>0.000000</td>\n",
       "      <td>0.000000</td>\n",
       "      <td>-4.000000</td>\n",
       "    </tr>\n",
       "    <tr>\n",
       "      <th>25%</th>\n",
       "      <td>9.206643e+06</td>\n",
       "      <td>1.087713e+07</td>\n",
       "      <td>8000.000000</td>\n",
       "      <td>8000.000000</td>\n",
       "      <td>8000.000000</td>\n",
       "      <td>9.990000</td>\n",
       "      <td>260.705000</td>\n",
       "      <td>4.500000e+04</td>\n",
       "      <td>11.910000</td>\n",
       "      <td>0.000000</td>\n",
       "      <td>0.000000</td>\n",
       "      <td>15.000000</td>\n",
       "      <td>51.000000</td>\n",
       "      <td>8.000000</td>\n",
       "      <td>0.000000</td>\n",
       "      <td>6.443000e+03</td>\n",
       "      <td>37.700000</td>\n",
       "      <td>17.000000</td>\n",
       "      <td>0.000000</td>\n",
       "      <td>0.000000</td>\n",
       "      <td>1914.590000</td>\n",
       "      <td>1899.700000</td>\n",
       "      <td>1200.570000</td>\n",
       "      <td>441.460000</td>\n",
       "      <td>0.000000</td>\n",
       "      <td>0.000000</td>\n",
       "      <td>0.000000</td>\n",
       "      <td>280.170000</td>\n",
       "      <td>0.000000</td>\n",
       "      <td>27.000000</td>\n",
       "      <td>1.0</td>\n",
       "      <td>76032.500000</td>\n",
       "      <td>13.200000</td>\n",
       "      <td>0.000000</td>\n",
       "      <td>0.000000e+00</td>\n",
       "      <td>2.985300e+04</td>\n",
       "      <td>0.000000</td>\n",
       "      <td>1.000000</td>\n",
       "      <td>0.000000</td>\n",
       "      <td>0.000000</td>\n",
       "      <td>6.000000</td>\n",
       "      <td>10251.500000</td>\n",
       "      <td>58.600000</td>\n",
       "      <td>0.000000</td>\n",
       "      <td>1.000000</td>\n",
       "      <td>2411.000000</td>\n",
       "      <td>47.700000</td>\n",
       "      <td>1.390000e+04</td>\n",
       "      <td>0.000000</td>\n",
       "      <td>0.000000</td>\n",
       "      <td>0.000000</td>\n",
       "    </tr>\n",
       "    <tr>\n",
       "      <th>50%</th>\n",
       "      <td>3.443327e+07</td>\n",
       "      <td>3.709528e+07</td>\n",
       "      <td>13000.000000</td>\n",
       "      <td>13000.000000</td>\n",
       "      <td>13000.000000</td>\n",
       "      <td>12.990000</td>\n",
       "      <td>382.550000</td>\n",
       "      <td>6.500000e+04</td>\n",
       "      <td>17.650000</td>\n",
       "      <td>0.000000</td>\n",
       "      <td>0.000000</td>\n",
       "      <td>31.000000</td>\n",
       "      <td>70.000000</td>\n",
       "      <td>11.000000</td>\n",
       "      <td>0.000000</td>\n",
       "      <td>1.187500e+04</td>\n",
       "      <td>56.000000</td>\n",
       "      <td>24.000000</td>\n",
       "      <td>6458.290000</td>\n",
       "      <td>6455.810000</td>\n",
       "      <td>4894.999117</td>\n",
       "      <td>4862.010000</td>\n",
       "      <td>3215.320000</td>\n",
       "      <td>1073.280000</td>\n",
       "      <td>0.000000</td>\n",
       "      <td>0.000000</td>\n",
       "      <td>0.000000</td>\n",
       "      <td>462.780000</td>\n",
       "      <td>0.000000</td>\n",
       "      <td>44.000000</td>\n",
       "      <td>1.0</td>\n",
       "      <td>101771.000000</td>\n",
       "      <td>17.610000</td>\n",
       "      <td>0.000000</td>\n",
       "      <td>0.000000e+00</td>\n",
       "      <td>8.055900e+04</td>\n",
       "      <td>1.000000</td>\n",
       "      <td>2.000000</td>\n",
       "      <td>0.000000</td>\n",
       "      <td>1.000000</td>\n",
       "      <td>12.000000</td>\n",
       "      <td>24684.500000</td>\n",
       "      <td>74.900000</td>\n",
       "      <td>1.000000</td>\n",
       "      <td>2.000000</td>\n",
       "      <td>4483.000000</td>\n",
       "      <td>61.900000</td>\n",
       "      <td>2.370000e+04</td>\n",
       "      <td>0.000000</td>\n",
       "      <td>0.000000</td>\n",
       "      <td>2.000000</td>\n",
       "    </tr>\n",
       "    <tr>\n",
       "      <th>75%</th>\n",
       "      <td>5.490814e+07</td>\n",
       "      <td>5.847135e+07</td>\n",
       "      <td>20000.000000</td>\n",
       "      <td>20000.000000</td>\n",
       "      <td>20000.000000</td>\n",
       "      <td>16.200000</td>\n",
       "      <td>572.600000</td>\n",
       "      <td>9.000000e+04</td>\n",
       "      <td>23.950000</td>\n",
       "      <td>0.000000</td>\n",
       "      <td>1.000000</td>\n",
       "      <td>50.000000</td>\n",
       "      <td>92.000000</td>\n",
       "      <td>14.000000</td>\n",
       "      <td>0.000000</td>\n",
       "      <td>2.082900e+04</td>\n",
       "      <td>73.600000</td>\n",
       "      <td>32.000000</td>\n",
       "      <td>13659.055000</td>\n",
       "      <td>13654.050000</td>\n",
       "      <td>10616.814231</td>\n",
       "      <td>10565.690000</td>\n",
       "      <td>8000.000000</td>\n",
       "      <td>2238.265000</td>\n",
       "      <td>0.000000</td>\n",
       "      <td>0.000000</td>\n",
       "      <td>0.000000</td>\n",
       "      <td>831.245000</td>\n",
       "      <td>0.000000</td>\n",
       "      <td>61.000000</td>\n",
       "      <td>1.0</td>\n",
       "      <td>132800.000000</td>\n",
       "      <td>22.650000</td>\n",
       "      <td>0.000000</td>\n",
       "      <td>0.000000e+00</td>\n",
       "      <td>2.082050e+05</td>\n",
       "      <td>2.000000</td>\n",
       "      <td>4.000000</td>\n",
       "      <td>1.000000</td>\n",
       "      <td>2.000000</td>\n",
       "      <td>23.000000</td>\n",
       "      <td>47858.000000</td>\n",
       "      <td>87.600000</td>\n",
       "      <td>2.000000</td>\n",
       "      <td>4.000000</td>\n",
       "      <td>7771.500000</td>\n",
       "      <td>75.200000</td>\n",
       "      <td>3.980000e+04</td>\n",
       "      <td>1.000000</td>\n",
       "      <td>2.000000</td>\n",
       "      <td>3.000000</td>\n",
       "    </tr>\n",
       "    <tr>\n",
       "      <th>max</th>\n",
       "      <td>6.861706e+07</td>\n",
       "      <td>7.354484e+07</td>\n",
       "      <td>35000.000000</td>\n",
       "      <td>35000.000000</td>\n",
       "      <td>35000.000000</td>\n",
       "      <td>28.990000</td>\n",
       "      <td>1445.460000</td>\n",
       "      <td>9.500000e+06</td>\n",
       "      <td>9999.000000</td>\n",
       "      <td>39.000000</td>\n",
       "      <td>33.000000</td>\n",
       "      <td>188.000000</td>\n",
       "      <td>129.000000</td>\n",
       "      <td>90.000000</td>\n",
       "      <td>86.000000</td>\n",
       "      <td>2.904836e+06</td>\n",
       "      <td>892.300000</td>\n",
       "      <td>169.000000</td>\n",
       "      <td>49372.860000</td>\n",
       "      <td>49372.860000</td>\n",
       "      <td>57777.579870</td>\n",
       "      <td>57777.580000</td>\n",
       "      <td>35000.030000</td>\n",
       "      <td>24205.620000</td>\n",
       "      <td>358.680000</td>\n",
       "      <td>33520.270000</td>\n",
       "      <td>7002.190000</td>\n",
       "      <td>36475.590000</td>\n",
       "      <td>20.000000</td>\n",
       "      <td>188.000000</td>\n",
       "      <td>1.0</td>\n",
       "      <td>500000.000000</td>\n",
       "      <td>43.860000</td>\n",
       "      <td>14.000000</td>\n",
       "      <td>9.152545e+06</td>\n",
       "      <td>8.000078e+06</td>\n",
       "      <td>14.000000</td>\n",
       "      <td>40.000000</td>\n",
       "      <td>12.000000</td>\n",
       "      <td>19.000000</td>\n",
       "      <td>363.000000</td>\n",
       "      <td>878459.000000</td>\n",
       "      <td>223.300000</td>\n",
       "      <td>22.000000</td>\n",
       "      <td>43.000000</td>\n",
       "      <td>127305.000000</td>\n",
       "      <td>151.400000</td>\n",
       "      <td>9.999999e+06</td>\n",
       "      <td>17.000000</td>\n",
       "      <td>35.000000</td>\n",
       "      <td>32.000000</td>\n",
       "    </tr>\n",
       "  </tbody>\n",
       "</table>\n",
       "</div>"
      ],
      "text/plain": [
       "                 id     member_id      loan_amnt    funded_amnt  \\\n",
       "count  8.873790e+05  8.873790e+05  887379.000000  887379.000000   \n",
       "mean   3.246513e+07  3.500182e+07   14755.264605   14741.877625   \n",
       "std    2.282734e+07  2.411335e+07    8435.455601    8429.897657   \n",
       "min    5.473400e+04  7.047300e+04     500.000000     500.000000   \n",
       "25%    9.206643e+06  1.087713e+07    8000.000000    8000.000000   \n",
       "50%    3.443327e+07  3.709528e+07   13000.000000   13000.000000   \n",
       "75%    5.490814e+07  5.847135e+07   20000.000000   20000.000000   \n",
       "max    6.861706e+07  7.354484e+07   35000.000000   35000.000000   \n",
       "\n",
       "       funded_amnt_inv       int_rate    installment    annual_inc  \\\n",
       "count    887379.000000  887379.000000  887379.000000  8.873750e+05   \n",
       "mean      14702.464383      13.246740     436.717127  7.502759e+04   \n",
       "std        8442.106732       4.381867     244.186593  6.469830e+04   \n",
       "min           0.000000       5.320000      15.670000  0.000000e+00   \n",
       "25%        8000.000000       9.990000     260.705000  4.500000e+04   \n",
       "50%       13000.000000      12.990000     382.550000  6.500000e+04   \n",
       "75%       20000.000000      16.200000     572.600000  9.000000e+04   \n",
       "max       35000.000000      28.990000    1445.460000  9.500000e+06   \n",
       "\n",
       "                 dti    delinq_2yrs  inq_last_6mths  mths_since_last_delinq  \\\n",
       "count  887379.000000  887350.000000   887350.000000           433067.000000   \n",
       "mean       18.157039       0.314442        0.694623               34.063798   \n",
       "std        17.190626       0.862244        0.998448               21.884940   \n",
       "min         0.000000       0.000000        0.000000                0.000000   \n",
       "25%        11.910000       0.000000        0.000000               15.000000   \n",
       "50%        17.650000       0.000000        0.000000               31.000000   \n",
       "75%        23.950000       0.000000        1.000000               50.000000   \n",
       "max      9999.000000      39.000000       33.000000              188.000000   \n",
       "\n",
       "       mths_since_last_record       open_acc        pub_rec     revol_bal  \\\n",
       "count           137053.000000  887350.000000  887350.000000  8.873790e+05   \n",
       "mean                70.117903      11.548469       0.195307  1.692079e+04   \n",
       "std                 28.127914       5.317313       0.582091  2.242679e+04   \n",
       "min                  0.000000       0.000000       0.000000  0.000000e+00   \n",
       "25%                 51.000000       8.000000       0.000000  6.443000e+03   \n",
       "50%                 70.000000      11.000000       0.000000  1.187500e+04   \n",
       "75%                 92.000000      14.000000       0.000000  2.082900e+04   \n",
       "max                129.000000      90.000000      86.000000  2.904836e+06   \n",
       "\n",
       "          revol_util      total_acc      out_prncp  out_prncp_inv  \\\n",
       "count  886877.000000  887350.000000  887379.000000  887379.000000   \n",
       "mean       55.067693      25.268026    8403.124852    8399.713242   \n",
       "std        23.834344      11.840561    8493.450269    8489.997617   \n",
       "min         0.000000       1.000000       0.000000       0.000000   \n",
       "25%        37.700000      17.000000       0.000000       0.000000   \n",
       "50%        56.000000      24.000000    6458.290000    6455.810000   \n",
       "75%        73.600000      32.000000   13659.055000   13654.050000   \n",
       "max       892.300000     169.000000   49372.860000   49372.860000   \n",
       "\n",
       "         total_pymnt  total_pymnt_inv  total_rec_prncp  total_rec_int  \\\n",
       "count  887379.000000    887379.000000    887379.000000  887379.000000   \n",
       "mean     7558.826684      7521.160306      5757.706424    1754.804327   \n",
       "std      7871.243336      7846.108604      6625.441046    2095.356099   \n",
       "min         0.000000         0.000000         0.000000       0.000000   \n",
       "25%      1914.590000      1899.700000      1200.570000     441.460000   \n",
       "50%      4894.999117      4862.010000      3215.320000    1073.280000   \n",
       "75%     10616.814231     10565.690000      8000.000000    2238.265000   \n",
       "max     57777.579870     57777.580000     35000.030000   24205.620000   \n",
       "\n",
       "       total_rec_late_fee     recoveries  collection_recovery_fee  \\\n",
       "count       887379.000000  887379.000000            887379.000000   \n",
       "mean             0.396692      45.919243                 4.880757   \n",
       "std              4.087825     409.693874                63.125281   \n",
       "min              0.000000       0.000000                 0.000000   \n",
       "25%              0.000000       0.000000                 0.000000   \n",
       "50%              0.000000       0.000000                 0.000000   \n",
       "75%              0.000000       0.000000                 0.000000   \n",
       "max            358.680000   33520.270000              7002.190000   \n",
       "\n",
       "       last_pymnt_amnt  collections_12_mths_ex_med  \\\n",
       "count    887379.000000               887234.000000   \n",
       "mean       2164.145585                    0.014380   \n",
       "std        4794.783233                    0.134191   \n",
       "min           0.000000                    0.000000   \n",
       "25%         280.170000                    0.000000   \n",
       "50%         462.780000                    0.000000   \n",
       "75%         831.245000                    0.000000   \n",
       "max       36475.590000                   20.000000   \n",
       "\n",
       "       mths_since_last_major_derog  policy_code  annual_inc_joint   dti_joint  \\\n",
       "count                221703.000000     887379.0        511.000000  509.000000   \n",
       "mean                     44.104838          1.0     109981.011585   18.310118   \n",
       "std                      22.179841          0.0      52730.379847    7.169233   \n",
       "min                       0.000000          1.0      17950.000000    3.000000   \n",
       "25%                      27.000000          1.0      76032.500000   13.200000   \n",
       "50%                      44.000000          1.0     101771.000000   17.610000   \n",
       "75%                      61.000000          1.0     132800.000000   22.650000   \n",
       "max                     188.000000          1.0     500000.000000   43.860000   \n",
       "\n",
       "       acc_now_delinq  tot_coll_amt   tot_cur_bal   open_acc_6m    open_il_6m  \\\n",
       "count   887350.000000  8.171030e+05  8.171030e+05  21372.000000  21372.000000   \n",
       "mean         0.004991  2.257026e+02  1.394582e+05      1.109021      2.928832   \n",
       "std          0.077625  1.031137e+04  1.537500e+05      1.242675      3.089987   \n",
       "min          0.000000  0.000000e+00  0.000000e+00      0.000000      0.000000   \n",
       "25%          0.000000  0.000000e+00  2.985300e+04      0.000000      1.000000   \n",
       "50%          0.000000  0.000000e+00  8.055900e+04      1.000000      2.000000   \n",
       "75%          0.000000  0.000000e+00  2.082050e+05      2.000000      4.000000   \n",
       "max         14.000000  9.152545e+06  8.000078e+06     14.000000     40.000000   \n",
       "\n",
       "        open_il_12m   open_il_24m  mths_since_rcnt_il   total_bal_il  \\\n",
       "count  21372.000000  21372.000000        20810.000000   21372.000000   \n",
       "mean       0.761651      1.674574           20.912686   36552.811389   \n",
       "std        0.996035      1.688725           27.209081   43103.833619   \n",
       "min        0.000000      0.000000            0.000000       0.000000   \n",
       "25%        0.000000      0.000000            6.000000   10251.500000   \n",
       "50%        0.000000      1.000000           12.000000   24684.500000   \n",
       "75%        1.000000      2.000000           23.000000   47858.000000   \n",
       "max       12.000000     19.000000          363.000000  878459.000000   \n",
       "\n",
       "            il_util   open_rv_12m   open_rv_24m     max_bal_bc      all_util  \\\n",
       "count  18617.000000  21372.000000  21372.000000   21372.000000  21372.000000   \n",
       "mean      71.535317      1.389060      2.975482    5887.979740     60.831939   \n",
       "std       23.022862      1.520129      2.631886    5284.701239     20.013254   \n",
       "min        0.000000      0.000000      0.000000       0.000000      0.000000   \n",
       "25%       58.600000      0.000000      1.000000    2411.000000     47.700000   \n",
       "50%       74.900000      1.000000      2.000000    4483.000000     61.900000   \n",
       "75%       87.600000      2.000000      4.000000    7771.500000     75.200000   \n",
       "max      223.300000     22.000000     43.000000  127305.000000    151.400000   \n",
       "\n",
       "       total_rev_hi_lim        inq_fi   total_cu_tl  inq_last_12m  \n",
       "count      8.171030e+05  21372.000000  21372.000000  21372.000000  \n",
       "mean       3.206862e+04      0.943945      1.537058      1.977307  \n",
       "std        3.749826e+04      1.446872      2.723339      2.874067  \n",
       "min        0.000000e+00      0.000000      0.000000     -4.000000  \n",
       "25%        1.390000e+04      0.000000      0.000000      0.000000  \n",
       "50%        2.370000e+04      0.000000      0.000000      2.000000  \n",
       "75%        3.980000e+04      1.000000      2.000000      3.000000  \n",
       "max        9.999999e+06     17.000000     35.000000     32.000000  "
      ]
     },
     "execution_count": 6,
     "metadata": {},
     "output_type": "execute_result"
    }
   ],
   "source": [
    "loans_data.describe()"
   ]
  },
  {
   "cell_type": "markdown",
   "metadata": {},
   "source": [
    "### Visual Exploratory Data Analysis of Loan Amounts"
   ]
  },
  {
   "cell_type": "code",
   "execution_count": 7,
   "metadata": {},
   "outputs": [
    {
     "name": "stderr",
     "output_type": "stream",
     "text": [
      "/Library/Frameworks/Python.framework/Versions/3.6/lib/python3.6/site-packages/matplotlib/axes/_axes.py:6462: UserWarning: The 'normed' kwarg is deprecated, and has been replaced by the 'density' kwarg.\n",
      "  warnings.warn(\"The 'normed' kwarg is deprecated, and has been \"\n"
     ]
    },
    {
     "data": {
      "image/png": "[encoded data removed]",
      "text/plain": [
       "<Figure size 1296x432 with 2 Axes>"
      ]
     },
     "metadata": {},
     "output_type": "display_data"
    },
    {
     "name": "stdout",
     "output_type": "stream",
     "text": [
      "Dist plot is a combination of histogram and kernal density estimate.\n",
      "Violin plot is a combination of boxplot and kernal density estimate. The violin plot shows that the median is at 13000 and most of the loans lie between 8000 to 20,000.\n",
      "\n",
      "\n",
      "The distribution plot and violin plot, both show that most of the loans are of amount 10000.\n"
     ]
    }
   ],
   "source": [
    "#setting the style of the plot\n",
    "sns.set_style(\"whitegrid\")\n",
    "\n",
    "#visual EDA to understand the distribution of the loan amount\n",
    "#creating two plots, one is distribution and the other is violin plot too see the loan amount distribution\n",
    "fig, axs = plt.subplots(1,2,figsize=(18,6))\n",
    "\n",
    "sns.distplot(loans_data.loan_amnt, ax=axs[0])\n",
    "axs[0].set(xlabel='Loan Amount', \n",
    "       ylabel='% Distribution',title='Density Plot of Loan Amount')\n",
    "sns.violinplot(loans_data.loan_amnt, ax=axs[1])\n",
    "axs[1].set(xlabel='Loan Amount', \n",
    "       ylabel='Distribution',title='Violin Plot of Loan Amount')\n",
    "plt.show()\n",
    "print(\"Dist plot is a combination of histogram and kernal density estimate.\")\n",
    "print(\"Violin plot is a combination of boxplot and kernal density estimate. The violin plot shows that the median is at 13000 and most of the loans lie between 8000 to 20,000.\")\n",
    "print(\"\\n\")\n",
    "print(\"The distribution plot and violin plot, both show that most of the loans are of amount 10000.\")"
   ]
  },
  {
   "cell_type": "code",
   "execution_count": 8,
   "metadata": {},
   "outputs": [
    {
     "name": "stdout",
     "output_type": "stream",
     "text": [
      "Number of loans with loan amount as 10,000 are: 61837\n"
     ]
    }
   ],
   "source": [
    "# We saw above that most of the loans are for amount 10,000, so I wanted to see exactly how many.\n",
    "print(\"Number of loans with loan amount as 10,000 are:\",loans_data.id[loans_data['loan_amnt'] == 10000].count())"
   ]
  },
  {
   "cell_type": "markdown",
   "metadata": {},
   "source": [
    "### Understanding loan status"
   ]
  },
  {
   "cell_type": "markdown",
   "metadata": {},
   "source": [
    "Understanding Unique values in our loan status column."
   ]
  },
  {
   "cell_type": "code",
   "execution_count": 9,
   "metadata": {},
   "outputs": [
    {
     "data": {
      "text/plain": [
       "array(['Charged Off', 'Current', 'Default',\n",
       "       'Does not meet the credit policy. Status:Charged Off',\n",
       "       'Does not meet the credit policy. Status:Fully Paid', 'Fully Paid',\n",
       "       'In Grace Period', 'Issued', 'Late (16-30 days)',\n",
       "       'Late (31-120 days)'], dtype=object)"
      ]
     },
     "execution_count": 9,
     "metadata": {},
     "output_type": "execute_result"
    }
   ],
   "source": [
    "np.unique(loans_data['loan_status'])"
   ]
  },
  {
   "cell_type": "code",
   "execution_count": 10,
   "metadata": {},
   "outputs": [
    {
     "data": {
      "text/plain": [
       "<matplotlib.axes._subplots.AxesSubplot at 0x116605ba8>"
      ]
     },
     "execution_count": 10,
     "metadata": {},
     "output_type": "execute_result"
    },
    {
     "data": {
      "image/png": "[encoded data removed]",
      "text/plain": [
       "<Figure size 648x648 with 1 Axes>"
      ]
     },
     "metadata": {},
     "output_type": "display_data"
    }
   ],
   "source": [
    "plt.rcParams['figure.figsize'] = (9,9)\n",
    "def status_class(text):\n",
    "    if text in ('Fully Paid' ,'Does not meet the credit policy. Status:Fully Paid'):\n",
    "        return 'Fully Paid'\n",
    "    elif text in ('Charged Off' ,'Default' ,'Does not meet the credit policy. Status:Charged Off'):\n",
    "        return 'Default'\n",
    "    elif text in ('Current','Issued'):\n",
    "        return 'Current'\n",
    "    elif text in ('Late (16-30 days)' ,'Late (31-120 days)','In Grace Period'):\n",
    "        return 'Late'\n",
    "    else:\n",
    "        return 'Unknown'\n",
    "\n",
    "loans_data['status_class']=loans_data['loan_status'].apply(status_class)\n",
    "loans_data.groupby('status_class').size().plot(kind='bar')"
   ]
  },
  {
   "cell_type": "markdown",
   "metadata": {},
   "source": [
    "### Exploring different reasons for which the loan was issued"
   ]
  },
  {
   "cell_type": "code",
   "execution_count": 11,
   "metadata": {},
   "outputs": [
    {
     "name": "stdout",
     "output_type": "stream",
     "text": [
      "\n",
      "\n",
      "We see here that most of the loans are for debt consolidation or to pay credit cards.\n"
     ]
    },
    {
     "data": {
      "image/png": "[encoded data removed]",
      "text/plain": [
       "<Figure size 648x648 with 1 Axes>"
      ]
     },
     "metadata": {},
     "output_type": "display_data"
    }
   ],
   "source": [
    "plt.rcParams['figure.figsize'] = (9,9)\n",
    "loans_data.groupby('purpose').size().plot(kind='bar')\n",
    "\n",
    "print(\"\\n\")\n",
    "print(\"We see here that most of the loans are for debt consolidation or to pay credit cards.\")"
   ]
  },
  {
   "cell_type": "markdown",
   "metadata": {},
   "source": [
    "## Now, understanding our borrowers"
   ]
  },
  {
   "cell_type": "markdown",
   "metadata": {},
   "source": [
    "### Length of employment"
   ]
  },
  {
   "cell_type": "code",
   "execution_count": 12,
   "metadata": {},
   "outputs": [
    {
     "data": {
      "text/plain": [
       "array(['1 year', '10+ years', '2 years', '3 years', '4 years', '5 years',\n",
       "       '6 years', '7 years', '8 years', '9 years', '< 1 year', 'nan'],\n",
       "      dtype=object)"
      ]
     },
     "execution_count": 12,
     "metadata": {},
     "output_type": "execute_result"
    }
   ],
   "source": [
    "np.unique(loans_data.emp_length.astype(str))"
   ]
  },
  {
   "cell_type": "markdown",
   "metadata": {},
   "source": [
    "How many loans have 'n/a' as the employment length data"
   ]
  },
  {
   "cell_type": "code",
   "execution_count": 13,
   "metadata": {},
   "outputs": [
    {
     "data": {
      "text/plain": [
       "44825"
      ]
     },
     "execution_count": 13,
     "metadata": {},
     "output_type": "execute_result"
    }
   ],
   "source": [
    "loans_data.id[loans_data['emp_length'].isnull()].count()"
   ]
  },
  {
   "cell_type": "code",
   "execution_count": 14,
   "metadata": {},
   "outputs": [
    {
     "data": {
      "text/plain": [
       "<matplotlib.axes._subplots.AxesSubplot at 0x10b56b470>"
      ]
     },
     "execution_count": 14,
     "metadata": {},
     "output_type": "execute_result"
    },
    {
     "data": {
      "image/png": "[encoded data removed]",
      "text/plain": [
       "<Figure size 648x648 with 1 Axes>"
      ]
     },
     "metadata": {},
     "output_type": "display_data"
    }
   ],
   "source": [
    "plt.rcParams['figure.figsize'] = (9,9)\n",
    "def employment_len(text):\n",
    "    if text=='10+ years':\n",
    "        return '10+ years'\n",
    "    elif text in ('1 year','2 years', '3 years', '4 years','5 years'):\n",
    "        return '1 to 5 years'\n",
    "    elif text in ('6 years', '7 years', '8 years', '9 years'):\n",
    "        return '6 to 9 years'\n",
    "    elif text== '< 1 year':\n",
    "        return 'Less than 1 year'\n",
    "    else:\n",
    "        return 'n/a'\n",
    "\n",
    "loans_data['employment_length']=loans_data['emp_length'].apply(employment_len)\n",
    "loans_data.groupby('employment_length').size().plot(kind='bar')"
   ]
  },
  {
   "cell_type": "markdown",
   "metadata": {},
   "source": [
    "### Understanding annual income"
   ]
  },
  {
   "cell_type": "code",
   "execution_count": 15,
   "metadata": {},
   "outputs": [
    {
     "data": {
      "text/plain": [
       "<matplotlib.axes._subplots.AxesSubplot at 0x10c5056d8>"
      ]
     },
     "execution_count": 15,
     "metadata": {},
     "output_type": "execute_result"
    },
    {
     "data": {
      "image/png": "[encoded data removed]",
      "text/plain": [
       "<Figure size 648x432 with 1 Axes>"
      ]
     },
     "metadata": {},
     "output_type": "display_data"
    }
   ],
   "source": [
    "plt.rcParams['figure.figsize'] = (9,6)\n",
    "loans_data[\"annual_inc\"].plot.density(logx = True)"
   ]
  },
  {
   "cell_type": "code",
   "execution_count": 24,
   "metadata": {},
   "outputs": [
    {
     "data": {
      "text/plain": [
       "array(['ANY', 'MORTGAGE', 'NONE', 'OTHER', 'OWN', 'RENT'], dtype=object)"
      ]
     },
     "execution_count": 24,
     "metadata": {},
     "output_type": "execute_result"
    }
   ],
   "source": [
    "np.unique(loans_data['home_ownership'])"
   ]
  },
  {
   "cell_type": "code",
   "execution_count": 25,
   "metadata": {},
   "outputs": [
    {
     "data": {
      "text/plain": [
       "4"
      ]
     },
     "execution_count": 25,
     "metadata": {},
     "output_type": "execute_result"
    }
   ],
   "source": [
    "loans_data.id[loans_data['annual_inc'].isnull()].count()"
   ]
  },
  {
   "cell_type": "markdown",
   "metadata": {},
   "source": [
    "Filling the missing values in annual income column with median value of that column. I chose median cause annual income is a column that can have outliers."
   ]
  },
  {
   "cell_type": "code",
   "execution_count": 30,
   "metadata": {},
   "outputs": [],
   "source": [
    "loans_data.fillna(loans_data.median()['annual_inc'], inplace = True)"
   ]
  },
  {
   "cell_type": "markdown",
   "metadata": {},
   "source": [
    "Now, I will run a check to ensure that there are no more missing values in this column"
   ]
  },
  {
   "cell_type": "code",
   "execution_count": 31,
   "metadata": {},
   "outputs": [
    {
     "data": {
      "text/plain": [
       "0"
      ]
     },
     "execution_count": 31,
     "metadata": {},
     "output_type": "execute_result"
    }
   ],
   "source": [
    "loans_data.id[loans_data['annual_inc'].isnull()].count()"
   ]
  },
  {
   "cell_type": "markdown",
   "metadata": {},
   "source": [
    "### Understanding Interest Rate"
   ]
  },
  {
   "cell_type": "code",
   "execution_count": 32,
   "metadata": {},
   "outputs": [
    {
     "name": "stderr",
     "output_type": "stream",
     "text": [
      "/Library/Frameworks/Python.framework/Versions/3.6/lib/python3.6/site-packages/matplotlib/axes/_axes.py:6462: UserWarning: The 'normed' kwarg is deprecated, and has been replaced by the 'density' kwarg.\n",
      "  warnings.warn(\"The 'normed' kwarg is deprecated, and has been \"\n"
     ]
    },
    {
     "data": {
      "text/plain": [
       "[Text(0,0.5,'% Distribution'),\n",
       " Text(0.5,0,'Interest Rate %'),\n",
       " Text(0.5,1,'Density Plot of Interest Rate')]"
      ]
     },
     "execution_count": 32,
     "metadata": {},
     "output_type": "execute_result"
    },
    {
     "data": {
      "image/png": "[encoded data removed]",
      "text/plain": [
       "<Figure size 648x432 with 1 Axes>"
      ]
     },
     "metadata": {},
     "output_type": "display_data"
    }
   ],
   "source": [
    "plt.rcParams['figure.figsize'] = (9,6)\n",
    "ax=sns.distplot(loans_data.int_rate, color=\"r\")\n",
    "ax.set(xlabel='Interest Rate %', \n",
    "       ylabel='% Distribution',title='Density Plot of Interest Rate')"
   ]
  },
  {
   "cell_type": "markdown",
   "metadata": {},
   "source": [
    "### Interest Rate by Term / Application Type / Purpose"
   ]
  },
  {
   "cell_type": "code",
   "execution_count": 33,
   "metadata": {},
   "outputs": [
    {
     "data": {
      "image/png": "[encoded data removed]",
      "text/plain": [
       "<Figure size 1296x864 with 3 Axes>"
      ]
     },
     "metadata": {},
     "output_type": "display_data"
    }
   ],
   "source": [
    "fig = plt.figure(figsize=(18,12))\n",
    "\n",
    "plt.subplot(2,2,1)\n",
    "sns.boxplot(x='term', y='int_rate', data=loans_data)\n",
    "plt.subplot(2,2,2)\n",
    "sns.boxplot(x='application_type', y='int_rate', data=loans_data)\n",
    "plt.subplot(2,1,2)\n",
    "sns.boxplot(x='purpose', y='int_rate', data=loans_data)\n",
    "plt.xticks(rotation=45)\n",
    "\n",
    "plt.show()"
   ]
  },
  {
   "cell_type": "markdown",
   "metadata": {},
   "source": [
    "There are 3 subplots displayed above to show the relationship between interest rate and other attributes. \n",
    "\n",
    "Plot1: This plot shows how the 60 months term has more interest rate than the 36 months. The interest rate increases with the term length.\n",
    "\n",
    "Plot2: This plot shows how the application type affects the interest rate. The join application type has higher interest rate as compared to the individual application type.\n",
    "\n",
    "Plot3: This plot shows the interest rate across various reasons for which the loan was issued and we see that 'small_business' loans and 'house' loans have the highest interest rate.\n"
   ]
  },
  {
   "cell_type": "markdown",
   "metadata": {},
   "source": [
    "### Status Class by Interest rate / Loan Amount"
   ]
  },
  {
   "cell_type": "code",
   "execution_count": 34,
   "metadata": {},
   "outputs": [
    {
     "data": {
      "image/png": "[encoded data removed]",
      "text/plain": [
       "<Figure size 1080x504 with 2 Axes>"
      ]
     },
     "metadata": {},
     "output_type": "display_data"
    }
   ],
   "source": [
    "fig= plt.figure(figsize=(15,7))\n",
    "\n",
    "plt.subplot(1,2,1)\n",
    "sns.boxplot(x='status_class', y='int_rate', data=loans_data)\n",
    "plt.subplot(1,2,2)\n",
    "sns.boxplot(x='status_class', y='loan_amnt', data=loans_data)\n",
    "plt.show()"
   ]
  },
  {
   "cell_type": "code",
   "execution_count": 35,
   "metadata": {},
   "outputs": [
    {
     "data": {
      "image/png": "[encoded data removed]",
      "text/plain": [
       "<Figure size 648x432 with 1 Axes>"
      ]
     },
     "metadata": {},
     "output_type": "display_data"
    }
   ],
   "source": [
    "sns.countplot(x='status_class', hue = 'term',data = loans_data , order = ['Current','Default','Fully Paid', 'Late'])\n",
    "sns.set_style(\"white\")\n",
    "sns.despine()"
   ]
  },
  {
   "cell_type": "code",
   "execution_count": 36,
   "metadata": {},
   "outputs": [
    {
     "data": {
      "text/plain": [
       "<matplotlib.axes._subplots.AxesSubplot at 0x10e9b6198>"
      ]
     },
     "execution_count": 36,
     "metadata": {},
     "output_type": "execute_result"
    },
    {
     "data": {
      "image/png": "[encoded data removed]",
      "text/plain": [
       "<Figure size 648x432 with 1 Axes>"
      ]
     },
     "metadata": {},
     "output_type": "display_data"
    }
   ],
   "source": [
    "###I need to remove this one, didnt make much sense. Too many colors, too much going on.\n",
    "\n",
    "loans_data.groupby(['status_class','purpose']).size().unstack().plot(kind='bar')"
   ]
  },
  {
   "cell_type": "code",
   "execution_count": 42,
   "metadata": {},
   "outputs": [
    {
     "name": "stdout",
     "output_type": "stream",
     "text": [
      "SpearmanrResult(correlation=-0.12283016151685712, pvalue=0.0)\n"
     ]
    }
   ],
   "source": [
    "print(spearmanr(np.array(loans_data['annual_inc']), np.array(loans_data['int_rate'])))"
   ]
  },
  {
   "cell_type": "code",
   "execution_count": 44,
   "metadata": {},
   "outputs": [
    {
     "name": "stdout",
     "output_type": "stream",
     "text": [
      "SpearmanrResult(correlation=0.11682878764555998, pvalue=0.0)\n"
     ]
    }
   ],
   "source": [
    "print(spearmanr(np.array(loans_data['loan_amnt']), np.array(loans_data['int_rate'])))"
   ]
  },
  {
   "cell_type": "markdown",
   "metadata": {},
   "source": [
    "### Understanding Credit Grade"
   ]
  },
  {
   "cell_type": "code",
   "execution_count": 45,
   "metadata": {},
   "outputs": [
    {
     "data": {
      "text/plain": [
       "<matplotlib.axes._subplots.AxesSubplot at 0x10ea08048>"
      ]
     },
     "execution_count": 45,
     "metadata": {},
     "output_type": "execute_result"
    },
    {
     "data": {
      "image/png": "[encoded data removed]",
      "text/plain": [
       "<Figure size 648x648 with 1 Axes>"
      ]
     },
     "metadata": {},
     "output_type": "display_data"
    }
   ],
   "source": [
    "fig = plt.figure(figsize=(9,9))\n",
    "sns.countplot(loans_data['grade'], order = ('A','B','C','D','E','F','G'))"
   ]
  },
  {
   "cell_type": "markdown",
   "metadata": {},
   "source": [
    "### Interest Rate by Grade"
   ]
  },
  {
   "cell_type": "code",
   "execution_count": 46,
   "metadata": {},
   "outputs": [
    {
     "data": {
      "image/png": "[encoded data removed]",
      "text/plain": [
       "<Figure size 1296x432 with 2 Axes>"
      ]
     },
     "metadata": {},
     "output_type": "display_data"
    }
   ],
   "source": [
    "fig, axs = plt.subplots(1,2,figsize=(18,6))\n",
    "loans_data[['grade','int_rate']].groupby('grade').mean().plot(kind='bar', ax=axs[0])\n",
    "sns.boxplot(x='grade', y='int_rate', data=loans_data, order = 'ABCDEFG', ax=axs[1])\n",
    "plt.show()"
   ]
  },
  {
   "cell_type": "code",
   "execution_count": 91,
   "metadata": {},
   "outputs": [],
   "source": [
    "#loans which are fully paid\n",
    "loans_data_fp = loans_data[loans_data['status_class']=='Fully Paid']\n",
    "\n",
    "#loans which defaulted\n",
    "\n",
    "loans_data_d = loans_data[loans_data['status_class']=='Default']"
   ]
  },
  {
   "cell_type": "code",
   "execution_count": 92,
   "metadata": {
    "collapsed": true
   },
   "outputs": [
    {
     "data": {
      "image/png": "[encoded data removed]",
      "text/plain": [
       "<Figure size 648x432 with 1 Axes>"
      ]
     },
     "metadata": {},
     "output_type": "display_data"
    }
   ],
   "source": [
    "# I use -= in the beginning to ensure that the matplotlibv line does not get printed\n",
    "_=loans_data_fp[['id','addr_state']].groupby(['addr_state'])['id'].count().nlargest(5).plot(kind='bar')"
   ]
  },
  {
   "cell_type": "code",
   "execution_count": 93,
   "metadata": {},
   "outputs": [
    {
     "data": {
      "image/png": "[encoded data removed]",
      "text/plain": [
       "<Figure size 648x432 with 1 Axes>"
      ]
     },
     "metadata": {},
     "output_type": "display_data"
    }
   ],
   "source": [
    "_=loans_data_d[['id','addr_state']].groupby(['addr_state'])['id'].count().nlargest(5).plot(kind='bar')"
   ]
  },
  {
   "cell_type": "code",
   "execution_count": 95,
   "metadata": {},
   "outputs": [
    {
     "data": {
      "image/png": "[encoded data removed]",
      "text/plain": [
       "<Figure size 648x432 with 1 Axes>"
      ]
     },
     "metadata": {},
     "output_type": "display_data"
    }
   ],
   "source": [
    "_=sns.regplot('loan_amnt','annual_inc', data = loans_data_fp)"
   ]
  },
  {
   "cell_type": "code",
   "execution_count": 96,
   "metadata": {},
   "outputs": [
    {
     "data": {
      "image/png": "[encoded data removed]",
      "text/plain": [
       "<Figure size 648x432 with 1 Axes>"
      ]
     },
     "metadata": {},
     "output_type": "display_data"
    }
   ],
   "source": [
    "_=sns.regplot('loan_amnt','annual_inc', data = loans_data_d)"
   ]
  },
  {
   "cell_type": "markdown",
   "metadata": {},
   "source": [
    "### Is there a significant difference between the annual income of Fully Paid and Default loans?"
   ]
  },
  {
   "cell_type": "markdown",
   "metadata": {},
   "source": [
    "Let's find the mean and median of annual income"
   ]
  },
  {
   "cell_type": "code",
   "execution_count": 97,
   "metadata": {},
   "outputs": [
    {
     "name": "stdout",
     "output_type": "stream",
     "text": [
      "Median annual income is 65000.0 and Mean annual income is 75027.54255984195\n"
     ]
    }
   ],
   "source": [
    "print('Median annual income is {0} and Mean annual income is {1}'.format(loans_data['annual_inc'].median(), loans_data['annual_inc'].mean()))"
   ]
  },
  {
   "cell_type": "code",
   "execution_count": 98,
   "metadata": {},
   "outputs": [
    {
     "data": {
      "text/plain": [
       "(209711, 47228)"
      ]
     },
     "execution_count": 98,
     "metadata": {},
     "output_type": "execute_result"
    }
   ],
   "source": [
    "len(loans_data_fp), len(loans_data_d)"
   ]
  },
  {
   "cell_type": "markdown",
   "metadata": {},
   "source": [
    "We had partitioned our dataframe into two separate dataframes based on loan status. Since the sample sizes for both dataframes are greater than 30, this implies Central Limit Theorem holds and we can apply z-statistics."
   ]
  },
  {
   "cell_type": "code",
   "execution_count": 99,
   "metadata": {},
   "outputs": [],
   "source": [
    "fp_annual_inc = loans_data_fp['annual_inc']\n",
    "d_annual_inc = loans_data_d['annual_inc']"
   ]
  },
  {
   "cell_type": "code",
   "execution_count": 100,
   "metadata": {},
   "outputs": [
    {
     "name": "stdout",
     "output_type": "stream",
     "text": [
      "Mean of annual income for fully paid loans: 74142.5024192341\n",
      "Standard deiviation of annual income for fully paid loans: 59205.29202398379\n"
     ]
    }
   ],
   "source": [
    "fp_mean = fp_annual_inc.mean()\n",
    "fp_std = fp_annual_inc.std()\n",
    "\n",
    "print(\"Mean of annual income for fully paid loans: %s\" %fp_mean)\n",
    "print(\"Standard deiviation of annual income for fully paid loans: %s\" %fp_std)"
   ]
  },
  {
   "cell_type": "code",
   "execution_count": 101,
   "metadata": {},
   "outputs": [
    {
     "name": "stdout",
     "output_type": "stream",
     "text": [
      "Mean of annual income for defaulted loans: 65199.76680867284\n",
      "Standard deiviation of annual income for defaulted loans: 56955.15545104668\n"
     ]
    }
   ],
   "source": [
    "d_mean = d_annual_inc.mean()\n",
    "d_std = d_annual_inc.std()\n",
    "\n",
    "print(\"Mean of annual income for defaulted loans: %s\" %d_mean)\n",
    "print(\"Standard deiviation of annual income for defaulted loans: %s\" %d_std)"
   ]
  },
  {
   "cell_type": "markdown",
   "metadata": {},
   "source": [
    "From the above calculations, it can be seen that the mean and the standard deviations of fully paid and default loans differ slightly. The next step is to determine if this difference is a statistically significant one.\n",
    "\n",
    "For hypothesis testing, the following are defined:\n",
    "\n",
    "- Null Hypothesis: The mean annual income for fully paid and default loans is the same.\n",
    "- Alternate Hypothesis: The mean annual income for fully paid and default loans is not the same.\n",
    "\n",
    "The threshold value of $\\alpha$ is assumed to be 0.05. Assuming Null Hypothesis is true"
   ]
  },
  {
   "cell_type": "code",
   "execution_count": 102,
   "metadata": {},
   "outputs": [
    {
     "data": {
      "text/plain": [
       "(8942.735610561256, 292.23360521799054)"
      ]
     },
     "execution_count": 102,
     "metadata": {},
     "output_type": "execute_result"
    }
   ],
   "source": [
    "h0_mean = 0\n",
    "mean_diff = fp_mean - d_mean\n",
    "sigma_diff = np.sqrt((fp_std**2)/len(fp_annual_inc)  + (d_std**2)/len(d_annual_inc))\n",
    "mean_diff, sigma_diff"
   ]
  },
  {
   "cell_type": "code",
   "execution_count": 103,
   "metadata": {},
   "outputs": [
    {
     "data": {
      "text/plain": [
       "30.601325278420518"
      ]
     },
     "execution_count": 103,
     "metadata": {},
     "output_type": "execute_result"
    }
   ],
   "source": [
    "z = (mean_diff - h0_mean) / sigma_diff\n",
    "z"
   ]
  },
  {
   "cell_type": "code",
   "execution_count": 108,
   "metadata": {},
   "outputs": [
    {
     "data": {
      "text/plain": [
       "0.0"
      ]
     },
     "execution_count": 108,
     "metadata": {},
     "output_type": "execute_result"
    }
   ],
   "source": [
    "p = (1-stats.norm.cdf(z))*2\n",
    "p"
   ]
  },
  {
   "cell_type": "markdown",
   "metadata": {},
   "source": [
    "The p-value obtained in this case is 0.0 which is less than the accepted threshold of 0.05.Therefore, we reject the null hypothesis. There is a significant difference in the annual income of fully paid and default loans.\n",
    "\n",
    "For this test, two-sample test was used as we were trying to compare the means of two different groups. Also, the z-statistic was used as the sample sizes for both groups were greater than 30."
   ]
  },
  {
   "cell_type": "code",
   "execution_count": null,
   "metadata": {},
   "outputs": [],
   "source": []
  }
 ],
 "metadata": {
  "kernelspec": {
   "display_name": "Python 3",
   "language": "python",
   "name": "python3"
  },
  "language_info": {
   "codemirror_mode": {
    "name": "ipython",
    "version": 3
   },
   "file_extension": ".py",
   "mimetype": "text/x-python",
   "name": "python",
   "nbconvert_exporter": "python",
   "pygments_lexer": "ipython3",
   "version": "3.6.5"
  }
 },
 "nbformat": 4,
 "nbformat_minor": 2
}
